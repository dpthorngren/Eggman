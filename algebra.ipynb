{
 "cells": [
  {
   "cell_type": "markdown",
   "id": "c40d147b-f93c-4231-8cdc-a72fe57f4b9f",
   "metadata": {},
   "source": [
    "# Section Area"
   ]
  },
  {
   "cell_type": "code",
   "execution_count": null,
   "id": "e57fb6bf-7b17-4ef0-8305-dca8cd40adea",
   "metadata": {},
   "outputs": [],
   "source": [
    "circle = sqrt(1 - x**2)"
   ]
  },
  {
   "cell_type": "code",
   "execution_count": null,
   "id": "50e6d230-a11e-4471-8ff3-9db36457c15c",
   "metadata": {},
   "outputs": [],
   "source": [
    "plane = A*x + B*y + C"
   ]
  },
  {
   "cell_type": "code",
   "execution_count": null,
   "id": "fee902d5-0dd9-47b8-a74b-38b9197971c8",
   "metadata": {},
   "outputs": [],
   "source": [
    "plane.integrate((y,y0,circle)).integrate(x).simplify().collect(A).collect(B).collect(C)"
   ]
  },
  {
   "cell_type": "markdown",
   "id": "8f0f64fb-5803-49ba-ac99-ce8ef452ce6d",
   "metadata": {},
   "source": [
    "# Bounded Arc Area"
   ]
  },
  {
   "cell_type": "code",
   "execution_count": null,
   "id": "03c4b59b-4845-440f-af7c-a101af84363c",
   "metadata": {
    "tags": []
   },
   "outputs": [],
   "source": [
    "A, B, a0, a1 = symbols(\"A B a0 a1\", positive=True, real=True)\n",
    "f, fdot = symbols(\"f, \\dot{f}\", real=True, positive=True)\n",
    "b0, b1 = symbols(\"b0, b1\", real=True)"
   ]
  },
  {
   "cell_type": "code",
   "execution_count": null,
   "id": "4a42b499-3fc7-436a-86a2-0dbb8002823c",
   "metadata": {},
   "outputs": [],
   "source": [
    "thet0 = asec(r/a0) + b0\n",
    "thet1 = asec(r/a1) + b1"
   ]
  },
  {
   "cell_type": "code",
   "execution_count": null,
   "id": "e9f5f8a1-a07c-4745-a60f-d5bb06068004",
   "metadata": {},
   "outputs": [],
   "source": [
    "length = (r * (thet1-thet0) / (2*pi))"
   ]
  },
  {
   "cell_type": "code",
   "execution_count": null,
   "id": "4f5efe92-6b6a-41a2-9eec-d86aac0f0c10",
   "metadata": {},
   "outputs": [],
   "source": [
    "tot = length.integrate((r, A, B)).simplify().collect(A).collect(B)"
   ]
  },
  {
   "cell_type": "code",
   "execution_count": null,
   "id": "9a25d86c-0893-46a8-9568-8127a760ad1e",
   "metadata": {},
   "outputs": [],
   "source": [
    "tot = (length*(f+fdot*r)).integrate((r, A, B))"
   ]
  },
  {
   "cell_type": "code",
   "execution_count": null,
   "id": "670b63d4-b5be-43ef-af4b-bb1abd870897",
   "metadata": {},
   "outputs": [],
   "source": [
    "L0, L1, theta0, theta1 = symbols('L_0 L_1 theta_0 theta_1', positive=True)\n",
    "# Evaluate from A to B, multiply by 2*pi!\n",
    "tot2 = tot.args[1].args[2].subs(A,r).rewrite(acos).collect(f).collect(fdot)\\\n",
    "    .subs(sqrt(r**2 - a0**2), L0)\\\n",
    "    .subs(sqrt(r**2 - a1**2), L1)\\\n",
    "    .subs(r*r*acos(a0/r),theta0)\\\n",
    "    .subs(r*r*acos(a1/r),theta1)"
   ]
  },
  {
   "cell_type": "markdown",
   "id": "a3beb2f8-14e1-44e2-9076-70e9c55d7712",
   "metadata": {},
   "source": [
    "# Intersection of a Line and Unit Circle"
   ]
  },
  {
   "cell_type": "code",
   "execution_count": null,
   "id": "a69b71f5-f3a5-4ad6-b9d5-7d125b481850",
   "metadata": {},
   "outputs": [],
   "source": [
    "circle = x**2 + y**2 - 1"
   ]
  },
  {
   "cell_type": "code",
   "execution_count": null,
   "id": "d7e4a59c-716b-455c-9f2a-08e8c80ebf59",
   "metadata": {},
   "outputs": [],
   "source": [
    "line = m*x + b"
   ]
  },
  {
   "cell_type": "code",
   "execution_count": null,
   "id": "977e985f-88db-4b72-a148-9c46762a13fc",
   "metadata": {},
   "outputs": [],
   "source": [
    "solve(line - solve([circle, line], y)[1][0],x)"
   ]
  },
  {
   "cell_type": "markdown",
   "id": "572ca694-b6ae-48ac-b88d-8c1d0d05684c",
   "metadata": {},
   "source": [
    "## Chord integral"
   ]
  },
  {
   "cell_type": "code",
   "execution_count": null,
   "id": "33d0a23b-e152-42da-b89c-8a2be6ebc625",
   "metadata": {},
   "outputs": [],
   "source": [
    "cut = sy.sqrt(1 - x**2) - y0"
   ]
  },
  {
   "cell_type": "code",
   "execution_count": null,
   "id": "95fa5256-62d8-40f6-9f1b-3c9abfa32c7c",
   "metadata": {},
   "outputs": [],
   "source": [
    "cut.integrate((x, -sqrt(1-y0**2), sqrt(1-y0**2))).simplify()"
   ]
  },
  {
   "cell_type": "code",
   "execution_count": null,
   "id": "891c27c8-c9eb-4d20-a9b5-3b9af7cfc401",
   "metadata": {},
   "outputs": [],
   "source": [
    "eps = .99\n",
    "plot(cut.subs(y0,eps), (x, 0, sy.sqrt(1-eps**2)))"
   ]
  },
  {
   "cell_type": "code",
   "execution_count": null,
   "id": "5e260fef-ed17-4b9b-bf14-84d533c2218a",
   "metadata": {},
   "outputs": [],
   "source": [
    "cut.integrate((x,a,b)).simplify()"
   ]
  },
  {
   "cell_type": "code",
   "execution_count": null,
   "id": "e0f5e2ba-8dd5-4366-96b6-3f8070c1b63d",
   "metadata": {},
   "outputs": [],
   "source": [
    "linear = A + (B-A) * sy.sqrt(x**2 + y**2)"
   ]
  },
  {
   "cell_type": "code",
   "execution_count": null,
   "id": "e35c536a-4d82-42d1-9072-02c912f1a2b5",
   "metadata": {},
   "outputs": [],
   "source": [
    "linearCart = A + B*x + C*y"
   ]
  },
  {
   "cell_type": "code",
   "execution_count": null,
   "id": "7105a773-65b9-4724-bfe7-b540103c0d4d",
   "metadata": {},
   "outputs": [],
   "source": [
    "roots = solve(cut, x)"
   ]
  },
  {
   "cell_type": "code",
   "execution_count": null,
   "id": "c3fea018-f687-4b9c-a0d0-f9757b73d275",
   "metadata": {},
   "outputs": [],
   "source": [
    "roots"
   ]
  },
  {
   "cell_type": "code",
   "execution_count": null,
   "id": "7d4be502-3000-4c46-9891-42d02685dad9",
   "metadata": {},
   "outputs": [],
   "source": [
    "result = linearCart.integrate((y,0,cut)).simplify().integrate(x).simplify()"
   ]
  },
  {
   "cell_type": "code",
   "execution_count": null,
   "id": "98878f76-6b62-4bde-b16b-190c194e288a",
   "metadata": {},
   "outputs": [],
   "source": [
    "result.collect([A,B,C]) \\\n",
    "    .subs(sqrt(1-x**2), L) \\\n",
    "    .subs(asin(x), theta)"
   ]
  },
  {
   "cell_type": "markdown",
   "id": "2e039992-16e6-4bdf-aa13-cff56d5111f5",
   "metadata": {},
   "source": [
    "### Polar Coords"
   ]
  },
  {
   "cell_type": "code",
   "execution_count": null,
   "id": "11cf2c57-650f-4270-a240-5c526fd3d2aa",
   "metadata": {},
   "outputs": [],
   "source": [
    "polar = C*r**2"
   ]
  },
  {
   "cell_type": "code",
   "execution_count": null,
   "id": "cc3d418f-3334-4d16-afaa-3b7b9f3777d8",
   "metadata": {},
   "outputs": [],
   "source": [
    "solve(y0/cos(theta)-1, theta)"
   ]
  },
  {
   "cell_type": "code",
   "execution_count": null,
   "id": "11f9f06a-5a18-4775-a277-4c57c73c87dc",
   "metadata": {},
   "outputs": [],
   "source": [
    "integrate(polar*r, (r, y0*sec(theta), 1)).integrate((theta, -acos(y0), acos(y0))).simplify()"
   ]
  },
  {
   "cell_type": "markdown",
   "id": "9eb9a086-888b-4e07-bd0f-d33d1b8a93f5",
   "metadata": {},
   "source": [
    "### Linear in y?"
   ]
  },
  {
   "cell_type": "code",
   "execution_count": null,
   "id": "dd2bbd18-2023-48df-8cee-09b9af7d26fd",
   "metadata": {},
   "outputs": [],
   "source": [
    "# y0 = .1\n",
    "y0 = symbols(\"y0\", positive=True, real=True)\n",
    "cut = sqrt(y0**2 - (x*y0)**2)\n",
    "plot(cut.subs(y0,.1), (x,-1,1))"
   ]
  },
  {
   "cell_type": "code",
   "execution_count": null,
   "id": "0014ce09-ebdf-47b0-94ab-574ac76a5a50",
   "metadata": {},
   "outputs": [],
   "source": [
    "linear = A + (B-A) * (y+x)"
   ]
  },
  {
   "cell_type": "code",
   "execution_count": null,
   "id": "f80d1428-d574-4a33-b92b-ab93a4065d28",
   "metadata": {},
   "outputs": [],
   "source": [
    "(cut*linear).integrate((x, 0, 1)).simplify()"
   ]
  },
  {
   "cell_type": "markdown",
   "id": "d547d248-0fab-4f92-ba0a-d95a2d7a7fc5",
   "metadata": {},
   "source": [
    "## Plane Integral"
   ]
  },
  {
   "cell_type": "code",
   "execution_count": null,
   "id": "84b2ddd8-6f34-4ce8-ade9-9d7f6141758d",
   "metadata": {},
   "outputs": [],
   "source": [
    "plane = a*x + b*y + c"
   ]
  },
  {
   "cell_type": "code",
   "execution_count": null,
   "id": "069af6f9-e003-4acf-adcb-981bc0c8c871",
   "metadata": {},
   "outputs": [],
   "source": [
    "# Top left corner\n",
    "plane = plane.subs(b, solve(plane.subs([(x, 0), (y,sy.sqrt(3/4))]) - B, b)[0])"
   ]
  },
  {
   "cell_type": "code",
   "execution_count": null,
   "id": "e7a2d503-888d-434f-9bba-39c2b0e6fc4d",
   "metadata": {},
   "outputs": [],
   "source": [
    "# Bottom right corner\n",
    "plane = plane.subs(a, solve(plane.subs([(x, -1/2), (y,0)]) - A, a)[0])"
   ]
  },
  {
   "cell_type": "code",
   "execution_count": null,
   "id": "ed89bbe2-87a3-45c6-b3a7-32450eed2d09",
   "metadata": {},
   "outputs": [],
   "source": [
    "# Bottom left corner\n",
    "plane = plane.subs(c, solve(plane.subs([(x, 1/2), (y,0)]) - C, c)[0])"
   ]
  },
  {
   "cell_type": "code",
   "execution_count": null,
   "id": "29a5ddfa-a847-42dd-9369-a2c57c05df01",
   "metadata": {},
   "outputs": [],
   "source": [
    "plane.integrate((y,0,1-x), (x,0,1)).simplify()"
   ]
  },
  {
   "cell_type": "code",
   "execution_count": null,
   "id": "8f0e8da9-674a-494e-9958-bee592df381b",
   "metadata": {},
   "outputs": [],
   "source": [
    "(plane.integrate((y,0,(1+x)*sy.sqrt(3/4)), (x,-1/2,0)) + plane.integrate((y,0,(1-x)*sy.sqrt(3/4)), (x,0,1/2)))"
   ]
  },
  {
   "cell_type": "markdown",
   "id": "01b6cbf7-c55c-495f-a82a-c76c53bf452c",
   "metadata": {},
   "source": [
    "## Finding the Intersection"
   ]
  },
  {
   "cell_type": "code",
   "execution_count": null,
   "id": "8a430335-6da8-4c9d-91bd-a6dfea274f4c",
   "metadata": {},
   "outputs": [],
   "source": [
    "a, b, r = sy.symbols(\"a b r\", real=True, positive=True)\n",
    "x0, y0 = sy.symbols(\"x_0 y_0\", real=True, positive=True)"
   ]
  },
  {
   "cell_type": "code",
   "execution_count": null,
   "id": "a8e6ff30-f534-4084-b9c6-24b382271ace",
   "metadata": {},
   "outputs": [],
   "source": [
    "ellipse = (x/a)**2 + (y/b)**2 - 1"
   ]
  },
  {
   "cell_type": "code",
   "execution_count": null,
   "id": "a5e5d9a2-d117-45e8-849a-b11fc61a781e",
   "metadata": {},
   "outputs": [],
   "source": [
    "circle = (x-x0)**2 + (y-y0)**2  - r**2"
   ]
  },
  {
   "cell_type": "code",
   "execution_count": null,
   "id": "2dfe700f-5118-489f-90de-039c8b04a4e8",
   "metadata": {},
   "outputs": [],
   "source": [
    "solve(circle.subs({x:solve(ellipse, x)[1]}), y)"
   ]
  },
  {
   "cell_type": "markdown",
   "id": "cf9d23cb-5bc5-4b9c-882c-a5ddc589c7d2",
   "metadata": {},
   "source": [
    "## Elliptic Chunk"
   ]
  },
  {
   "cell_type": "code",
   "execution_count": null,
   "id": "3393643a-83b8-4166-ac91-1b05e2737025",
   "metadata": {},
   "outputs": [],
   "source": [
    "plane = a*x + b*y + c"
   ]
  },
  {
   "cell_type": "code",
   "execution_count": null,
   "id": "b94fa8aa-dee1-4d11-8f2c-10d929d5088e",
   "metadata": {},
   "outputs": [],
   "source": [
    "# Bottom left corner\n",
    "plane = plane.subs(c, solve(plane.subs([(x, 0), (y,0)]) - A, c)[0])"
   ]
  },
  {
   "cell_type": "code",
   "execution_count": null,
   "id": "a66de59e-f31b-478e-b241-1092d483a250",
   "metadata": {},
   "outputs": [],
   "source": [
    "# Top left corner\n",
    "plane = plane.subs(b, solve(plane.subs([(x, 0), (y, 1)]) - B, b)[0])"
   ]
  },
  {
   "cell_type": "code",
   "execution_count": null,
   "id": "268a4add-64f6-4125-9259-bbebb7abf5ee",
   "metadata": {},
   "outputs": [],
   "source": [
    "# Bottom right corner\n",
    "plane = plane.subs(a, solve(plane.subs([(x, 1), (y,0)]) - C, a)[0])"
   ]
  },
  {
   "cell_type": "code",
   "execution_count": null,
   "id": "4a696387-4160-4f87-ba58-0ad776a106f1",
   "metadata": {},
   "outputs": [],
   "source": [
    "# Ellipse Equation\n",
    "ellipse = (x-x0)**2 / a **2 + (y-y0)**2 / b**2 - 1"
   ]
  },
  {
   "cell_type": "code",
   "execution_count": null,
   "id": "abf0d387-4985-4a9b-a40d-69a22638127b",
   "metadata": {},
   "outputs": [],
   "source": [
    "integ = plane.integrate((y, 0, y1)).simplify()"
   ]
  },
  {
   "cell_type": "code",
   "execution_count": null,
   "id": "96ce2f96-5e1e-4b66-8b9f-7caf5ba717d8",
   "metadata": {},
   "outputs": [],
   "source": [
    "result = (1/6) * integ.subs({x:0, y1:1}) + (2/3) * integ.subs({x:1/2, y1:y0}) + (1/6) *integ.subs({x:1, y1:0}).simplify()"
   ]
  },
  {
   "cell_type": "code",
   "execution_count": null,
   "id": "b31808da-dd37-4e74-ac41-78a95f74d9af",
   "metadata": {},
   "outputs": [],
   "source": [
    "result.subs({A:B, B:C, C:1}).simplify()"
   ]
  },
  {
   "cell_type": "code",
   "execution_count": null,
   "id": "18d35224-2556-4faa-ac2a-0bdb7f3c524c",
   "metadata": {},
   "outputs": [],
   "source": [
    "sy.pycode(result)"
   ]
  }
 ],
 "metadata": {
  "kernelspec": {
   "display_name": "Python 3 (Sympy)",
   "language": "python",
   "name": "sympy"
  },
  "language_info": {
   "codemirror_mode": {
    "name": "ipython",
    "version": 3
   },
   "file_extension": ".py",
   "mimetype": "text/x-python",
   "name": "python",
   "nbconvert_exporter": "python",
   "pygments_lexer": "ipython3",
   "version": "3.10.12"
  }
 },
 "nbformat": 4,
 "nbformat_minor": 5
}
